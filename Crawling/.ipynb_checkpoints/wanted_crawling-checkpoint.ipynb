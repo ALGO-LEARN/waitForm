{
 "cells": [
  {
   "cell_type": "code",
   "execution_count": null,
   "id": "6b42456b",
   "metadata": {},
   "outputs": [],
   "source": [
    "chrome_exe = \"/Users/shin/chromedriver.exe\"\n",
    "\n",
    "print(\"hello\")"
   ]
  }
 ],
 "metadata": {
  "kernelspec": {
   "display_name": "Python 3 (ipykernel)",
   "language": "python",
   "name": "python3"
  },
  "language_info": {
   "codemirror_mode": {
    "name": "ipython",
    "version": 3
   },
   "file_extension": ".py",
   "mimetype": "text/x-python",
   "name": "python",
   "nbconvert_exporter": "python",
   "pygments_lexer": "ipython3",
   "version": "3.8.12"
  }
 },
 "nbformat": 4,
 "nbformat_minor": 5
}

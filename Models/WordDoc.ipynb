{
 "cells": [
  {
   "cell_type": "code",
   "execution_count": 96,
   "id": "a60bccf8",
   "metadata": {},
   "outputs": [],
   "source": [
    "import pandas as pd\n",
    "import numpy as np\n",
    "from tqdm import tqdm"
   ]
  },
  {
   "cell_type": "code",
   "execution_count": 109,
   "id": "6c4e237b",
   "metadata": {},
   "outputs": [
    {
     "data": {
      "text/html": [
       "<div>\n",
       "<style scoped>\n",
       "    .dataframe tbody tr th:only-of-type {\n",
       "        vertical-align: middle;\n",
       "    }\n",
       "\n",
       "    .dataframe tbody tr th {\n",
       "        vertical-align: top;\n",
       "    }\n",
       "\n",
       "    .dataframe thead th {\n",
       "        text-align: right;\n",
       "    }\n",
       "</style>\n",
       "<table border=\"1\" class=\"dataframe\">\n",
       "  <thead>\n",
       "    <tr style=\"text-align: right;\">\n",
       "      <th></th>\n",
       "      <th>stack</th>\n",
       "      <th>detail</th>\n",
       "      <th>header</th>\n",
       "    </tr>\n",
       "  </thead>\n",
       "  <tbody>\n",
       "    <tr>\n",
       "      <th>0</th>\n",
       "      <td>['TypeScript', 'JavaScript', 'AngularJS']</td>\n",
       "      <td>업무 소개\\n웹 프론트엔드 개발\\nWebGL/Canvas 활용한 3D/2D 모델의 ...</td>\n",
       "      <td>Back_end</td>\n",
       "    </tr>\n",
       "    <tr>\n",
       "      <th>1</th>\n",
       "      <td>['Elasticsearch', 'Terraform', 'Node.js', 'Pyt...</td>\n",
       "      <td>업무 소개\\nRuby on Rails 이용한 REST API 개발\\nOpenAPI ...</td>\n",
       "      <td>Back_end</td>\n",
       "    </tr>\n",
       "    <tr>\n",
       "      <th>2</th>\n",
       "      <td>['Vue.js', 'JavaScript', 'Node.js', '미국 최대 IT ...</td>\n",
       "      <td>업무 소개\\n한국에서 350만명, 미국에서 150만명이 하루 평균 40분 사용하는 ...</td>\n",
       "      <td>Back_end</td>\n",
       "    </tr>\n",
       "    <tr>\n",
       "      <th>3</th>\n",
       "      <td>['JavaScript', 'C++', 'Python', 'Spring', 'Java']</td>\n",
       "      <td>업무 소개\\nFTS (Fulfillment and Transportation Sys...</td>\n",
       "      <td>Back_end</td>\n",
       "    </tr>\n",
       "    <tr>\n",
       "      <th>4</th>\n",
       "      <td>['Go', 'Node.js', 'Java']</td>\n",
       "      <td>업무 소개\\nAgile 한 골라라의 개발 문화에서 백엔드 개발 및 인프라 관리 작업...</td>\n",
       "      <td>Back_end</td>\n",
       "    </tr>\n",
       "    <tr>\n",
       "      <th>...</th>\n",
       "      <td>...</td>\n",
       "      <td>...</td>\n",
       "      <td>...</td>\n",
       "    </tr>\n",
       "    <tr>\n",
       "      <th>3258</th>\n",
       "      <td>['Shell Script', 'JavaScript', 'Java']</td>\n",
       "      <td>업무 소개\\n빅데이터 분석 시스템 구축 (비정형데이터 분석, Text Analyti...</td>\n",
       "      <td>AI</td>\n",
       "    </tr>\n",
       "    <tr>\n",
       "      <th>3259</th>\n",
       "      <td>['Kotlin', 'Android', 'Java', 'React Native']</td>\n",
       "      <td>업무 소개\\n하버드, 예일 등 북미 아이비리그 대학 대다수에서 사용하는 Canvas...</td>\n",
       "      <td>AI</td>\n",
       "    </tr>\n",
       "    <tr>\n",
       "      <th>3260</th>\n",
       "      <td>['iOS', 'Swift', 'React Native']</td>\n",
       "      <td>업무 소개\\n하버드, 예일 등 북미 아이비리그 대학 대다수에서 사용하는 Canvas...</td>\n",
       "      <td>AI</td>\n",
       "    </tr>\n",
       "    <tr>\n",
       "      <th>3261</th>\n",
       "      <td>['Amazon Web Services(AWS)', 'Tensorflow', 'Do...</td>\n",
       "      <td>업무 소개\\n머신러닝 연구개발\\n안드로이드 어플리케이션 서비스의 back-end 개...</td>\n",
       "      <td>AI</td>\n",
       "    </tr>\n",
       "    <tr>\n",
       "      <th>3262</th>\n",
       "      <td>['Java', 'Laravel', 'PHP', 'MySQL']</td>\n",
       "      <td>업무 소개\\n대주부 BanckEnd, Front단 서버 / API 개발자격 조건\\n...</td>\n",
       "      <td>AI</td>\n",
       "    </tr>\n",
       "  </tbody>\n",
       "</table>\n",
       "<p>3263 rows × 3 columns</p>\n",
       "</div>"
      ],
      "text/plain": [
       "                                                  stack  \\\n",
       "0             ['TypeScript', 'JavaScript', 'AngularJS']   \n",
       "1     ['Elasticsearch', 'Terraform', 'Node.js', 'Pyt...   \n",
       "2     ['Vue.js', 'JavaScript', 'Node.js', '미국 최대 IT ...   \n",
       "3     ['JavaScript', 'C++', 'Python', 'Spring', 'Java']   \n",
       "4                             ['Go', 'Node.js', 'Java']   \n",
       "...                                                 ...   \n",
       "3258             ['Shell Script', 'JavaScript', 'Java']   \n",
       "3259      ['Kotlin', 'Android', 'Java', 'React Native']   \n",
       "3260                   ['iOS', 'Swift', 'React Native']   \n",
       "3261  ['Amazon Web Services(AWS)', 'Tensorflow', 'Do...   \n",
       "3262                ['Java', 'Laravel', 'PHP', 'MySQL']   \n",
       "\n",
       "                                                 detail    header  \n",
       "0     업무 소개\\n웹 프론트엔드 개발\\nWebGL/Canvas 활용한 3D/2D 모델의 ...  Back_end  \n",
       "1     업무 소개\\nRuby on Rails 이용한 REST API 개발\\nOpenAPI ...  Back_end  \n",
       "2     업무 소개\\n한국에서 350만명, 미국에서 150만명이 하루 평균 40분 사용하는 ...  Back_end  \n",
       "3     업무 소개\\nFTS (Fulfillment and Transportation Sys...  Back_end  \n",
       "4     업무 소개\\nAgile 한 골라라의 개발 문화에서 백엔드 개발 및 인프라 관리 작업...  Back_end  \n",
       "...                                                 ...       ...  \n",
       "3258  업무 소개\\n빅데이터 분석 시스템 구축 (비정형데이터 분석, Text Analyti...        AI  \n",
       "3259  업무 소개\\n하버드, 예일 등 북미 아이비리그 대학 대다수에서 사용하는 Canvas...        AI  \n",
       "3260  업무 소개\\n하버드, 예일 등 북미 아이비리그 대학 대다수에서 사용하는 Canvas...        AI  \n",
       "3261  업무 소개\\n머신러닝 연구개발\\n안드로이드 어플리케이션 서비스의 back-end 개...        AI  \n",
       "3262  업무 소개\\n대주부 BanckEnd, Front단 서버 / API 개발자격 조건\\n...        AI  \n",
       "\n",
       "[3263 rows x 3 columns]"
      ]
     },
     "execution_count": 109,
     "metadata": {},
     "output_type": "execute_result"
    }
   ],
   "source": [
    "tmp = pd.read_csv(\"./data/programmers_data.csv\")\n",
    "tmp"
   ]
  },
  {
   "cell_type": "code",
   "execution_count": 127,
   "id": "18def300",
   "metadata": {},
   "outputs": [],
   "source": [
    "tmp['detail'] = tmp.detail.apply(lambda x: x.lower())\n",
    "tmp['header'] = tmp['header'].replace('Back-end', 'Back_end')\n",
    "tmp['header'] = tmp['header'].replace('Front-End', 'Front_end')\n",
    "tmp['header'] = tmp['header'].replace('DataBase', 'Database')\n",
    "tmp['header'] = tmp['header'].replace('Network/Security', 'Network_Security')"
   ]
  },
  {
   "cell_type": "code",
   "execution_count": 207,
   "id": "88e1764b",
   "metadata": {},
   "outputs": [],
   "source": [
    "def isEnglishOrKorean(input_s):\n",
    "    k_count = 0\n",
    "    e_count = 0\n",
    "    for c in input_s:\n",
    "        if ord('가') <= ord(c) <= ord('힣'):\n",
    "            k_count+=1\n",
    "        elif ord('a') <= ord(c.lower()) <= ord('z'):\n",
    "            e_count+=1\n",
    "    return True if k_count>0 else False"
   ]
  },
  {
   "cell_type": "code",
   "execution_count": 208,
   "id": "8e224a18",
   "metadata": {},
   "outputs": [],
   "source": [
    "dic = {i: set() for i in class_name}\n",
    "for i, j in tmp.iterrows():\n",
    "    arr = []\n",
    "    lit = j['stack'].lower().replace('[', '').replace(']','').replace(\"'\",'').replace(' ','').split(',')\n",
    "    for k in lit:\n",
    "        if not isEnglishOrKorean(k):\n",
    "            arr.append(k)\n",
    "            \n",
    "    dic[j.header].update(arr)"
   ]
  },
  {
   "cell_type": "code",
   "execution_count": 209,
   "id": "115dbed4",
   "metadata": {},
   "outputs": [
    {
     "name": "stdout",
     "output_type": "stream",
     "text": [
      ",embeddedsystem,oracle,oop,ruby,git,material-ui,googleanalytics,vue.js,awscloudfront,unity,numpy,unrealengine,ajax,awssimplequeueservice(awssqs),r,awscloudwatch,apachehive,apachehadoop,terraform,awselasticloadbalancing,c++,apacheairflow,css,julia,haproxy,xplatform,apachesolr,thymeleaf,svn(apachesubversion),c#,ansible,wpf,apachemaven,awsbackup,amazonwebservices(aws),storybook,rust,egovframework,pytorch,beopen,datadog,gradle,tableau,html5,ar,datavisualization,typescript,dba(databaseadministration),apachespark,sql,auroradb,apolloclient,apachetomcat,hibernate,apachezookeeper,designpattern,bepositive,awsredshift,drf(djangorestframework),cypress,nginx,blockchain,junit,ci/cd,awsapigateway,awssimplenotificationservice(awssns),echarts,openstack,expo,gcp(googlecloudplatform),hls(httplivestreaming),styled-components,django,databinding,webflux,rancher,microsoftiis,jest,swift,awsmsk,netty,presto,googlecloudtoolsforintellij,awsiam,apachezeppelin,datamining,opencv,linux,hyperledger,.net,iot,googlecloudplatform,focusonessential,awss3,angular,soap,awsecr,apachekudu,uwsgi,gnuboard,perl,querydsl,bitbucket,rubyonrails,awslightsail,pylint,apacheaurora,circleci,springdata,seo,bigdata,reactadmin,es5,facebookapi,apachesentry,dart,klaytn,jira,tcp/ip,januswebrtcserver,css3,mongodb,githubaction,apachemesos,vhdl,flutter,asp.net,es6,googlecontainerregistry,dataanalysys,awseks,openssl,kubernetes,redis,microsoftazure,googleappengine,azuredevops,microsoftteams,machinevision,ecmascript(es),vuex,tailwindcss,next.js,mobx,oracledatabase,awsrds,navercloudplatform,machinelearning,mongodbatlas,mvc,betransparent,centos,elasticstack,msql,mybatis,nosql,jpa(javapersistentapi),elixir,awsroute53,\"dontbeevil\",scala,axios,firebase,spring,missionaligned,reactnative,ios,asp.netcore,zeplin,springcloud,webpack,delphi,angularjs,objective-c,apacheflink,mvp,restapi,mqtt,beproactive,gunicorn,jenkins,wordpress,canvas,awsdatapipeline,awscognito,kotlin,gin,growfurther,redhatcephstorage,android,awskinesis,apachekaraf,gstreamer,cleanarchitecture,typeorm,apachecouchdb,awscodepipeline,main,awselasticbeanstalk,quasarframework,reactnativerouter,springboot,entityframeworkcore,websocket,verilog,awsdatabasemigrationservice,windowsserver,swagger,geoserver,jsp,redux-saga,vuetify.js,awsecs,grpc,graphql,sequelize.js,flask,elementui,awselasticache,javaservlet,sketch,java,apachedruid,awsquicksight,puppeteer,apachekafka,fluentd,codeigniter,javascript,linuxkernel,pandas,memcached,apachecassandra,postgresql,awswaf&shield,expressjs,movefast,splunk,babel,eslint,keras,springdatajpa,ethereum,springbatch,database,nlp,gitlab,mocha,azure,apachehttpserver,jstl,springsecurity,less.js,awsec2,azuredns,slackapi,nestjs,shellscript,xunit,awscodedeploy,mariadb,awsx-ray,kestrel,logstash,apache,reacthooksapi,ncp(navercloudplatform),awsvpc,rabbitmq,awsinspector,cuda,eos,redux.js,php,openvpn,lessonlearned,composer,jwt,gulp,kibana,celery,nuxt.js,reactjs,sass(scss),mssql(microsoftsqlserver),sidekiq,elasticsearch,d3.js,jupyter,jquery,truffle,awscloudmap,fastapi,awsdocumentdb,opengl,awsamplify,awsemr,googlegkeon-prem,awscloud9,solidity,.net5,trustus,responsiveweb,github,html,awslambda,docker,gatsbyjs,deeplearning,tensorflow,unix,googlebigquery,threejs,apolloserver,awsdynamodb,relay,highcharts,mfc,bebold,awsalexa,qt,trello,webgl,bootstrap,ubuntu,python,nuget,twitterapi,go,hapi.js,oauth,gomars,apachejmeter,selenium,react,laravel,awsautoscaling,microservicearchitecture,c,mysql,node.js\n",
      "\n",
      "focusonessential,,restapi,awss3,embeddedsystem,awsec2,mqtt,oracle,beproactive,jenkins,shellscript,xml,windowskernel,directx,xunit,git,circleci,mariadb,kestrel,seo,vue.js,ffmpeg,apache,unity,kotlin,numpy,unrealengine,growfurther,realm,neo4j,android,rabbitmq,cuda,eos,redux.js,php,lessonlearned,c++,protocolbuffers,es5,awscodepipeline,springboot,entityframeworkcore,css,jira,reactjs,sass(scss),rxjs,xplatform,electron,mssql(microsoftsqlserver),windowsserver,imageprocessing,svn(apachesubversion),c#,mongodb,ansible,wpf,jquery,apachemaven,awsbackup,jsp,amazonwebservices(aws),opengl,redux-saga,pytorch,beopen,awscloud9,gradle,.net5,trustus,flutter,asp.net,es6,ar,grpc,googlecontainerregistry,dataanalysys,typescript,flask,kubernetes,redis,github,auroradb,microsoftazure,sql,html,azuredevops,microsoftteams,docker,java,bepositive,machinevision,ecmascript(es),deeplearning,tensorflow,unix,vuex,apachekafka,threejs,next.js,wcf,javascript,linuxkernel,awsrds,navercloudplatform,bebold,nginx,mfc,rxjava,qt,expressjs,movefast,betransparent,rtos,keras,ubuntu,ci/cd,python,nuget,windows,sap,windowsforms,nosql,springdatajpa,apachestruts,\"dontbeevil\",openstack,gcp(googlecloudplatform),styled-components,spring,django,missionaligned,go,reactnative,database,ios,hlsl,gomars,gitlab,asp.netcore,zeplin,swift,springcloud,webpack,delphi,opencv,angularjs,azure,objective-c,c,linux,.net,mysql,node.js\n",
      "\n",
      ",restapi,awss3,angular,embeddedsystem,awsec2,mqtt,soap,awsecr,azurefirewall,slam(simultaneouslocalizationandmapping),oracle,azuredns,perl,jenkins,jboss,shellscript,rubyonrails,git,circleci,azurevpngateway,awscodedeploy,mariadb,googleanalytics,vue.js,logstash,awscloudfront,unity,apache,ncp(navercloudplatform),kotlin,unrealengine,iot,awscloudwatch,ajax,redhatcephstorage,android,awskinesis,awsvpc,rabbitmq,bigdata,cuda,apachehadoop,redux.js,php,openvpn,terraform,cleanarchitecture,jwt,c++,protocolbuffers,apacheairflow,awscodepipeline,awselasticbeanstalk,apachesentry,windowsembedded,springboot,celery,css,jira,reactjs,tcp/ip,awscloudformation,verilog,xplatform,apachesolr,itsm,mssql(microsoftsqlserver),vb.net,windowsserver,imageprocessing,css3,c#,mongodb,elasticsearch,githubaction,wpf,ansible,jquery,jsp,amazonwebservices(aws),opengl,awsamplify,awsemr,storybook,vhdl,ros,googlegkeon-prem,redux-saga,egovframework,pytorch,datadog,awscloud9,gradle,html5,ar,awsecs,graphql,typescript,awseks,flask,kubernetes,apachespark,redis,auroradb,sql,awselasticache,github,microsoftazure,html,awslambda,hibernate,apachetomcat,ndk,docker,java,ecmascript(es),deeplearning,cocoa,tensorflow,puppeteer,googlebigquery,apachekafka,next.js,awsdynamodb,awsredshift,javascript,linuxkernel,drf(djangorestframework),3dsmax,pandas,awsrds,navercloudplatform,machinelearning,nginx,postgresql,rxjava,qt,awswaf&shield,jni(javanativeinterface),expressjs,rtos,ubuntu,keras,ci/cd,python,awsapigateway,awssimplenotificationservice(awssns),elasticstack,windows,sap,windowsforms,msql,nosql,springdatajpa,jpa(javapersistentapi),openstack,firebase,gcp(googlecloudplatform),spring,django,apachehbase,go,reactnative,database,jetpack,ios,rancher,oauth,nlp,googlecloudtoolsforpowershell,yoctoproject,gitlab,swift,mvvm(model-view-viewmodel),react,laravel,springcloud,delphi,microservicearchitecture,opencv,angularjs,azure,objective-c,oracleweblogic,c,apacheflink,linux,hyperledger,.net,mysql,node.js,digitalocean\n",
      "\n",
      ",focusonessential,restapi,awss3,embeddedsystem,awsec2,mqtt,gis(geographicinformationsystem),apachekudu,uwsgi,oracle,beproactive,jenkins,ruby,shellscript,rubyonrails,xml,wordpress,git,springdata,awsdatapipeline,googleanalytics,seo,mariadb,vue.js,logstash,awscloudfront,apache,adobeanalytics,kotlin,growfurther,awscloudwatch,r,torch,redhatcephstorage,apachehive,neo4j,android,awskinesis,bigdata,apachekaraf,apachehadoop,php,terraform,lessonlearned,c++,apacheairflow,facebookapi,awselasticbeanstalk,apachesentry,windowsembedded,celery,kibana,springboot,css,reactjs,haproxy,tibero,pyspark,mssql(microsoftsqlserver),windowsserver,swagger,geoserver,mongodb,c#,elasticsearch,sidekiq,ansible,jupyter,jquery,awsbackup,scikit-learn,fastapi,amazonwebservices(aws),jsp,opengl,awsemr,rust,pytorch,beopen,datadog,awscloud9,tableau,trustus,es6,azuredatafactory,matlab,dataanalysys,datavisualization,graphql,awseks,flask,dba(databaseadministration),kubernetes,apachespark,redis,sql,github,awsglue,awselasticache,googleappengine,javaservlet,html,awslambda,docker,java,apachedruid,bepositive,awsquicksight,deeplearning,tensorflow,unix,puppeteer,googlebigquery,apachekafka,fluentbit,awsdynamodb,awsredshift,gan(generativeadversarialnetwork),luigi,javascript,linuxkernel,oracledatabase,drf(djangorestframework),pandas,cypress,machinelearning,awsrds,bebold,nginx,awsalexa,postgresql,apachecassandra,qt,expressjs,movefast,betransparent,keras,ubuntu,ci/cd,python,elasticstack,nosql,twitterapi,apachestruts,\"dontbeevil\",scala,firebase,gcp(googlecloudplatform),spring,django,apachehbase,missionaligned,go,reactnative,database,ios,databinding,rancher,sas,nlp,yoctoproject,gomars,adobexd,selenium,gitlab,jest,microsoftiis,swift,awsathena,laravel,presto,apachezeppelin,datamining,opencv,azure,c,apacheflink,linux,.net,mysql,node.js,digitalocean\n",
      "\n",
      ",googlecloudplatform,focusonessential,restapi,awss3,embeddedsystem,awsec2,soap,apachekudu,azurefirewall,oracle,azuredns,beproactive,jenkins,bitbucket,ruby,nestjs,shellscript,rubyonrails,jboss,windowskernel,xunit,git,circleci,awsdatapipeline,azurevpngateway,awscodedeploy,mariadb,kestrel,vue.js,logstash,apache,unity,ncp(navercloudplatform),kotlin,awscontroltower,growfurther,awscloudwatch,awscloudtrail,redhatcephstorage,android,awskinesis,awsvpc,rabbitmq,awsinspector,apachekaraf,apachehadoop,photon,php,terraform,lessonlearned,cleanarchitecture,c++,apacheairflow,awselasticbeanstalk,apachesentry,awscertificatemanager,windowsembedded,kibana,springboot,entityframeworkcore,css,awsconfig,nuxt.js,reactjs,sass(scss),rxjs,haproxy,tcp/ip,awscloudformation,thymeleaf,itsm,mssql(microsoftsqlserver),vb.net,windowsserver,shell,swagger,svn(apachesubversion),c#,mongodb,elasticsearch,sidekiq,wpf,d3.js,jquery,jupyter,apachemaven,ansible,jsp,amazonwebservices(aws),rust,pytorch,beopen,awscloud9,datadog,gradle,solidity,trustus,html5,.net5,flutter,asp.net,es6,awsecs,grpc,googlecontainerregistry,matlab,graphql,dataanalysys,typescript,awseks,flask,openssl,kubernetes,apachespark,redis,sql,github,microsoftazure,googleappengine,awselasticache,html,awslambda,apachetomcat,hibernate,sketch,azuredevops,microsoftteams,docker,designpattern,java,awsmacie,bepositive,machinevision,ecmascript(es),unix,tensorflow,googlebigquery,apachekafka,vuex,fluentd,next.js,awsdynamodb,wcf,awsguardduty,javascript,oracledatabase,drf(djangorestframework),pandas,navercloudplatform,awsrds,machinelearning,nginx,bebold,mfc,awsalexa,postgresql,qt,awswaf&shield,jni(javanativeinterface),expressjs,movefast,betransparent,rtos,centos,keras,ubuntu,ci/cd,python,nuget,elasticstack,windows,sap,nosql,jpa(javapersistentapi),elixir,ethereum,\"dontbeevil\",gcp(googlecloudplatform),styled-components,spring,django,missionaligned,go,reactnative,database,ios,gomars,selenium,gitlab,asp.netcore,jest,microsoftiis,laravel,delphi,microservicearchitecture,awsiam,apachezeppelin,opencv,azure,oracleweblogic,apachehttpserver,c,linux,hyperledger,.net,mysql,node.js\n",
      "\n",
      ",googlecloudplatform,focusonessential,restapi,awss3,angular,less.js,awsec2,mqtt,soap,webrtc,awsecr,slam(simultaneouslocalizationandmapping),oracle,perl,slackapi,oop,azureemotion,beproactive,querydsl,jenkins,bitbucket,ruby,nestjs,rubyonrails,xml,windowskernel,wordpress,canvas,git,material-ui,circleci,redux-thunk,parcel,googleanalytics,awsx-ray,seo,mariadb,lua,vue.js,emberjs,awscognito,logstash,apache,reacthooksapi,awscloudfront,unity,kotlin,growfurther,awssimplequeueservice(awssqs),awscloudwatch,ajax,neo4j,android,rabbitmq,apachehadoop,redux.js,googlefirebasecrashlytics,php,lessonlearned,reactadmin,composer,jwt,c++,es5,gulp,facebookapi,awselasticbeanstalk,apachesentry,reactnativerouter,dart,klaytn,quasarframework,kibana,springboot,nuxt.js,css,jira,celery,reactjs,websocket,sass(scss),rxjs,verilog,electron,mssql(microsoftsqlserver),windowsserver,imageprocessing,geoserver,css3,c#,mongodb,elasticsearch,d3.js,wpf,apachemesos,jquery,truffle,apachemaven,sidekiq,awscloudmap,jsp,awsdocumentdb,amazonwebservices(aws),opengl,awsamplify,storybook,codepush,vhdl,redux-saga,rust,egovframework,beopen,datadog,gradle,solidity,tableau,html5,trustus,awscloud9,flutter,asp.net,es6,ar,vuetify.js,awsecs,grpc,vuecli,graphql,datavisualization,typescript,ionic,awseks,kubernetes,elementui,apachespark,redis,github,sql,chart.js,apolloclient,html,apachetomcat,awslambda,sketch,javaservlet,docker,java,gatsbyjs,bepositive,ecmascript(es),googletagmanager,cocoa,deeplearning,googlebigquery,vuex,threejs,apachekafka,visualbasic,tailwindcss,haskell,apolloserver,next.js,awsdynamodb,mobx,relay,codeigniter,javascript,linuxkernel,oracledatabase,rxswift,drf(djangorestframework),highcharts,awsrds,machinelearning,bebold,nginx,cypress,mfc,awsalexa,postgresql,rxjava,trello,blockchain,jni(javanativeinterface),expressjs,movefast,webgl,betransparent,babylon.js,rpc(remoteprocedurecall),babel,eslint,bootstrap,ubuntu,centos,ci/cd,python,awsapigateway,elasticstack,mybatis,nosql,echarts,yarn,jpa(javapersistentapi),ethereum,twitterapi,apachestruts,awsroute53,\"dontbeevil\",openstack,expo,scala,axios,firebase,gcp(googlecloudplatform),hls(httplivestreaming),styled-components,spring,django,missionaligned,go,reactnative,database,ios,jetpack,hlsl,nlp,gomars,apachejmeter,selenium,gitlab,microsoftiis,zeplin,swift,jest,mvvm(model-view-viewmodel),react,awsmsk,laravel,webpack,microservicearchitecture,googlecloudtoolsforintellij,opencv,angularjs,azure,objective-c,apachehttpserver,c,linux,.net,jstl,mysql,node.js\n",
      "\n",
      ",focusonessential,restapi,angular,awsec2,soap,oracle,oop,slackapi,beproactive,jenkins,bitbucket,rubyonrails,xml,awslightsail,git,circleci,retrofit,mariadb,lua,vue.js,ffmpeg,awscloudfront,unity,reacthooksapi,kotlin,growfurther,realm,android,redux.js,googlefirebasecrashlytics,php,lessonlearned,cleanarchitecture,reactadmin,jwt,c++,apachesentry,dart,springboot,jira,css,reactjs,koin,mssql(microsoftsqlserver),mantisbugtracker,svn(apachesubversion),cocoapods,css3,c#,mongodb,jquery,apachemaven,amazonwebservices(aws),opengl,codepush,storybook,redux-saga,rust,beopen,datadog,gradle,awscloud9,trustus,html5,glide,flutter,es6,ar,grpc,graphql,datavisualization,typescript,ionic,rxkotlin,kubernetes,redis,github,sql,html,apolloclient,retrofit2,hibernate,ndk,docker,java,bepositive,cocoa,reactor,sqlite,haskell,next.js,lottie,awsdynamodb,mobx,javascript,rxswift,googlecloudsdk,bebold,postgresql,rxjava,movefast,mvc,betransparent,webgl,okhttp,centos,ubuntu,ci/cd,python,ble(bluetoothlowenergy),sap,nosql,yarn,jpa(javapersistentapi),\"dontbeevil\",firebase,gcp(googlecloudplatform),hls(httplivestreaming),spring,django,dagger2,go,missionaligned,reactnative,jetpack,ios,databinding,hlsl,gomars,rxandroid,jest,zeplin,swift,mvvm(model-view-viewmodel),webpack,microservicearchitecture,angularjs,objective-c,c,linux,mysql,node.js,mvp\n",
      "\n",
      ",naverapi,php,restapi,python,awsecs,awss3,awsapigateway,ci/cd,typescript,awsecr,awselasticbeanstalk,awseks,awsroute53,kibana,kubernetes,jira,redis,github,sql,slackapi,firebase,html,awslambda,docker,jenkins,java,django,spring,reactnative,ios,googlebigquery,appium,pylint,git,hypervisor,circleci,windowsserver,awsx-ray,selenium,awscloud9,mantisbugtracker,awsdynamodb,apachejmeter,jest,c#,awscloudfront,elasticsearch,awsmsk,jquery,javascript,awscloudmap,awscloudwatch,amazonwebservices(aws),awsdocumentdb,awssimplequeueservice(awssqs),cypress,awsrds,espresso.js,android,googlecspconfigmanagement,linux,datadog,.net,tableau,mysql,node.js\n",
      "\n",
      ",restapi,awss3,awsec2,oop,jenkins,nestjs,directx,git,circleci,retrofit,mariadb,vue.js,awscloudfront,unity,kotlin,unrealengine,android,awskinesis,photon,php,terraform,c++,protocolbuffers,typeorm,es5,springboot,reactjs,tcp/ip,mssql(microsoftsqlserver),windowsserver,c#,mongodb,elasticsearch,amazonwebservices(aws),opengl,awscloud9,html5,glide,es6,awsecs,cocos2d,typescript,redis,github,sql,html,docker,java,reactor,apachekafka,javascript,rxswift,awsrds,postgresql,rxjava,expressjs,webgl,babel,python,windows,nosql,springdatajpa,scala,firebase,gcp(googlecloudplatform),spring,go,jetpack,ios,gitlab,swift,mvvm(model-view-viewmodel),webpack,objective-c,azure,c,linux,.net,mysql,node.js,mvp\n",
      "\n",
      ",focusonessential,restapi,awss3,embeddedsystem,awsec2,mqtt,gis(geographicinformationsystem),apachekudu,uwsgi,slam(simultaneouslocalizationandmapping),oracle,beproactive,textmining,jenkins,ruby,shellscript,rubyonrails,xml,wordpress,git,springdata,awsdatapipeline,googleanalytics,seo,mariadb,vue.js,logstash,awscloudfront,unity,apache,adobeanalytics,kotlin,numpy,unrealengine,growfurther,awscloudwatch,r,torch,redhatcephstorage,apachehive,neo4j,android,awskinesis,bigdata,cuda,apachekaraf,apachehadoop,php,terraform,lessonlearned,c++,stt(speechtotext),apacheairflow,facebookapi,awselasticbeanstalk,apachesentry,windowsembedded,celery,springboot,kibana,css,jira,reactjs,haproxy,tibero,pyspark,mssql(microsoftsqlserver),shell,swagger,windowsserver,imageprocessing,geoserver,mongodb,c#,elasticsearch,sidekiq,wpf,jupyter,jquery,ansible,awsbackup,scikit-learn,fastapi,amazonwebservices(aws),opengl,jsp,awsemr,ros,rust,tensorflowlite,pytorch,beopen,datadog,awscloud9,tableau,html5,trustus,es6,azuredatafactory,awsecs,matlab,dataanalysys,datavisualization,typescript,graphql,awseks,flask,dba(databaseadministration),kubernetes,apachespark,redis,sql,github,awsglue,awselasticache,microsoftazure,html,javaservlet,retrofit2,awslambda,googleappengine,docker,java,apachedruid,bepositive,machinevision,deeplearning,awsquicksight,tensorflow,unix,puppeteer,googlebigquery,apachekafka,threejs,fluentbit,lottie,awsdynamodb,awsredshift,gan(generativeadversarialnetwork),luigi,javascript,linuxkernel,oracledatabase,rxswift,drf(djangorestframework),3dsmax,pandas,cypress,machinelearning,awsrds,bebold,nginx,awsalexa,postgresql,apachecassandra,trello,qt,expressjs,movefast,betransparent,rpc(remoteprocedurecall),babel,keras,ubuntu,ci/cd,python,elasticstack,msql,nosql,jpa(javapersistentapi),twitterapi,apachestruts,\"dontbeevil\",scala,firebase,gcp(googlecloudplatform),spring,django,apachehbase,go,missionaligned,reactnative,database,ios,databinding,rancher,tensorflow.js,sas,nlp,yoctoproject,gomars,adobexd,selenium,gitlab,jest,microsoftiis,swift,awsathena,mvvm(model-view-viewmodel),laravel,webpack,springcloud,presto,apachezeppelin,datamining,opencv,azure,objective-c,c,apacheflink,linux,nvidiatensorrt,.net,mysql,node.js,digitalocean,mvp\n",
      "\n"
     ]
    }
   ],
   "source": [
    "for i in class_name:\n",
    "    print(','.join(list(dic[i])))\n",
    "    print()"
   ]
  },
  {
   "cell_type": "code",
   "execution_count": 35,
   "id": "73c74493",
   "metadata": {},
   "outputs": [],
   "source": [
    "data1 = pd.read_csv(\"./data/saramin_data.csv\")\n",
    "data2 = pd.read_csv(\"./data/programmers_data.csv\").drop(columns=['stack'])\n",
    "data3 = pd.read_csv(\"./data/renewal_incruit_crawling.csv\")\n",
    "data4 = pd.read_csv(\"./data/renewal_wanted_crawling.csv\")"
   ]
  },
  {
   "cell_type": "code",
   "execution_count": 45,
   "id": "11fab504",
   "metadata": {},
   "outputs": [],
   "source": [
    "data = pd.concat([data1,data2,data3,data4]).dropna()"
   ]
  },
  {
   "cell_type": "code",
   "execution_count": 140,
   "id": "ed45588e",
   "metadata": {},
   "outputs": [],
   "source": [
    "class_name = ['Back_end', 'Software', 'System', 'Database', 'Network_Security',\n",
    "              'Front_end', 'Application', 'Service', 'Game', 'AI']"
   ]
  },
  {
   "cell_type": "code",
   "execution_count": 77,
   "id": "f85d970f",
   "metadata": {},
   "outputs": [],
   "source": [
    "data['detail'] = data.detail.apply(lambda x: x.lower())\n",
    "data['header'] = data['header'].replace('Back-end', 'Back_end')\n",
    "data['header'] = data['header'].replace('Front-End', 'Front_end')\n",
    "data['header'] = data['header'].replace('DataBase', 'Database')\n",
    "data['header'] = data['header'].replace('Network/Security', 'Network_Security')"
   ]
  },
  {
   "cell_type": "code",
   "execution_count": 83,
   "id": "a24dc74b",
   "metadata": {},
   "outputs": [
    {
     "data": {
      "text/html": [
       "<div>\n",
       "<style scoped>\n",
       "    .dataframe tbody tr th:only-of-type {\n",
       "        vertical-align: middle;\n",
       "    }\n",
       "\n",
       "    .dataframe tbody tr th {\n",
       "        vertical-align: top;\n",
       "    }\n",
       "\n",
       "    .dataframe thead th {\n",
       "        text-align: right;\n",
       "    }\n",
       "</style>\n",
       "<table border=\"1\" class=\"dataframe\">\n",
       "  <thead>\n",
       "    <tr style=\"text-align: right;\">\n",
       "      <th></th>\n",
       "      <th>detail</th>\n",
       "      <th>header</th>\n",
       "    </tr>\n",
       "  </thead>\n",
       "  <tbody>\n",
       "    <tr>\n",
       "      <th>0</th>\n",
       "      <td>[경력 3년이상]\\n함께 성장할 java 개발자 모집\\n모집부문 및 상세내용\\n공통...</td>\n",
       "      <td>0</td>\n",
       "    </tr>\n",
       "    <tr>\n",
       "      <th>3</th>\n",
       "      <td>기구설계, 응용프로그램개발, 영업 모집\\n모집부문 및 상세내용\\n모집부문\\n상세내용...</td>\n",
       "      <td>0</td>\n",
       "    </tr>\n",
       "    <tr>\n",
       "      <th>5</th>\n",
       "      <td>java개발 경력사원 채용(정규직)\\n모집부문 및 상세내용\\n공통 자격요건\\nㆍ학력...</td>\n",
       "      <td>0</td>\n",
       "    </tr>\n",
       "    <tr>\n",
       "      <th>6</th>\n",
       "      <td>모집부문 및 상세내용\\n모집부문 상세내용\\n공통 자격요건\\nㆍ학력 : 무관\\n웹디자...</td>\n",
       "      <td>0</td>\n",
       "    </tr>\n",
       "    <tr>\n",
       "      <th>7</th>\n",
       "      <td>공고상세\\n주요 업무\\n- 글로벌 가상자산 app 서비스 개발\\n- 해시브랜드가 운...</td>\n",
       "      <td>0</td>\n",
       "    </tr>\n",
       "    <tr>\n",
       "      <th>...</th>\n",
       "      <td>...</td>\n",
       "      <td>...</td>\n",
       "    </tr>\n",
       "    <tr>\n",
       "      <th>11929</th>\n",
       "      <td>디우스는 철도분야 코스닥 상장사의 자회사로 철도 분야의 digital transfo...</td>\n",
       "      <td>9</td>\n",
       "    </tr>\n",
       "    <tr>\n",
       "      <th>11930</th>\n",
       "      <td>솔로몬테크노서플라이는 2012년에 설립된 회사로 자본금 6억원, 매출액 434억 4...</td>\n",
       "      <td>9</td>\n",
       "    </tr>\n",
       "    <tr>\n",
       "      <th>11931</th>\n",
       "      <td>dynamic new entertainment creation specialist\\...</td>\n",
       "      <td>9</td>\n",
       "    </tr>\n",
       "    <tr>\n",
       "      <th>11932</th>\n",
       "      <td>하이디어 솔루션즈는 시니어케어 및 키즈케어 등의 m2m, iot(internet o...</td>\n",
       "      <td>9</td>\n",
       "    </tr>\n",
       "    <tr>\n",
       "      <th>11933</th>\n",
       "      <td>nft뱅크는 (전) 그라운드x (카카오 블록체인), 페이스북 출신들로 구성된 블록체...</td>\n",
       "      <td>9</td>\n",
       "    </tr>\n",
       "  </tbody>\n",
       "</table>\n",
       "<p>43138 rows × 2 columns</p>\n",
       "</div>"
      ],
      "text/plain": [
       "                                                  detail header\n",
       "0      [경력 3년이상]\\n함께 성장할 java 개발자 모집\\n모집부문 및 상세내용\\n공통...      0\n",
       "3      기구설계, 응용프로그램개발, 영업 모집\\n모집부문 및 상세내용\\n모집부문\\n상세내용...      0\n",
       "5      java개발 경력사원 채용(정규직)\\n모집부문 및 상세내용\\n공통 자격요건\\nㆍ학력...      0\n",
       "6      모집부문 및 상세내용\\n모집부문 상세내용\\n공통 자격요건\\nㆍ학력 : 무관\\n웹디자...      0\n",
       "7      공고상세\\n주요 업무\\n- 글로벌 가상자산 app 서비스 개발\\n- 해시브랜드가 운...      0\n",
       "...                                                  ...    ...\n",
       "11929  디우스는 철도분야 코스닥 상장사의 자회사로 철도 분야의 digital transfo...      9\n",
       "11930  솔로몬테크노서플라이는 2012년에 설립된 회사로 자본금 6억원, 매출액 434억 4...      9\n",
       "11931  dynamic new entertainment creation specialist\\...      9\n",
       "11932  하이디어 솔루션즈는 시니어케어 및 키즈케어 등의 m2m, iot(internet o...      9\n",
       "11933  nft뱅크는 (전) 그라운드x (카카오 블록체인), 페이스북 출신들로 구성된 블록체...      9\n",
       "\n",
       "[43138 rows x 2 columns]"
      ]
     },
     "execution_count": 83,
     "metadata": {},
     "output_type": "execute_result"
    }
   ],
   "source": [
    "for i, c_name in enumerate(class_name):\n",
    "    data['header'] = data['header'].replace(c_name, i)\n",
    "data"
   ]
  },
  {
   "cell_type": "code",
   "execution_count": 65,
   "id": "54e706d6",
   "metadata": {
    "scrolled": true
   },
   "outputs": [
    {
     "data": {
      "text/html": [
       "<div>\n",
       "<style scoped>\n",
       "    .dataframe tbody tr th:only-of-type {\n",
       "        vertical-align: middle;\n",
       "    }\n",
       "\n",
       "    .dataframe tbody tr th {\n",
       "        vertical-align: top;\n",
       "    }\n",
       "\n",
       "    .dataframe thead th {\n",
       "        text-align: right;\n",
       "    }\n",
       "</style>\n",
       "<table border=\"1\" class=\"dataframe\">\n",
       "  <thead>\n",
       "    <tr style=\"text-align: right;\">\n",
       "      <th></th>\n",
       "      <th>class</th>\n",
       "      <th>words</th>\n",
       "    </tr>\n",
       "  </thead>\n",
       "  <tbody>\n",
       "    <tr>\n",
       "      <th>0</th>\n",
       "      <td>Back-end</td>\n",
       "      <td>[cgi, perl, php, .net, ajax, 백앤드, miplatform, ...</td>\n",
       "    </tr>\n",
       "    <tr>\n",
       "      <th>1</th>\n",
       "      <td>Software</td>\n",
       "      <td>[클라우드, c, c++, directx, mfc, atl, com, dcom, p...</td>\n",
       "    </tr>\n",
       "    <tr>\n",
       "      <th>2</th>\n",
       "      <td>System</td>\n",
       "      <td>[센서, mis, hmi, vhdl, verilog, 펌웨어, 어셈블러, cics,...</td>\n",
       "    </tr>\n",
       "    <tr>\n",
       "      <th>3</th>\n",
       "      <td>DataBase</td>\n",
       "      <td>[olap, informix, openm, ms-sql, dba, sql, ocp,...</td>\n",
       "    </tr>\n",
       "    <tr>\n",
       "      <th>4</th>\n",
       "      <td>Network_Security</td>\n",
       "      <td>[pos, 정보시스템, 컴퓨터보안, 사이버분쟁조정사, dwh, atm, window...</td>\n",
       "    </tr>\n",
       "    <tr>\n",
       "      <th>5</th>\n",
       "      <td>Front-End</td>\n",
       "      <td>[플래시, 디자인, 액션, 스크립트, 액션스크립트, gui, ui, 웹, 일러스트레...</td>\n",
       "    </tr>\n",
       "    <tr>\n",
       "      <th>6</th>\n",
       "      <td>Application</td>\n",
       "      <td>[ict, 정보통신기술, 스마트, rfid, antenna, gsm, 통신, 모바일...</td>\n",
       "    </tr>\n",
       "    <tr>\n",
       "      <th>7</th>\n",
       "      <td>Service</td>\n",
       "      <td>[it기술지원, it, 기술지원, 전산직, 테크니컬라이터, 유지보수, 유지, 보수,...</td>\n",
       "    </tr>\n",
       "    <tr>\n",
       "      <th>8</th>\n",
       "      <td>Game</td>\n",
       "      <td>[시나리오, 서버, server, 네트워크, network, 디자인, 게임디자인, ...</td>\n",
       "    </tr>\n",
       "    <tr>\n",
       "      <th>9</th>\n",
       "      <td>AI</td>\n",
       "      <td>[비전인식, 비전, 인식, 공간, 로봇, 무인, 빅데이터, 큐레이터, 머신러닝, 인...</td>\n",
       "    </tr>\n",
       "  </tbody>\n",
       "</table>\n",
       "</div>"
      ],
      "text/plain": [
       "              class                                              words\n",
       "0          Back-end  [cgi, perl, php, .net, ajax, 백앤드, miplatform, ...\n",
       "1          Software  [클라우드, c, c++, directx, mfc, atl, com, dcom, p...\n",
       "2            System  [센서, mis, hmi, vhdl, verilog, 펌웨어, 어셈블러, cics,...\n",
       "3          DataBase  [olap, informix, openm, ms-sql, dba, sql, ocp,...\n",
       "4  Network_Security  [pos, 정보시스템, 컴퓨터보안, 사이버분쟁조정사, dwh, atm, window...\n",
       "5         Front-End  [플래시, 디자인, 액션, 스크립트, 액션스크립트, gui, ui, 웹, 일러스트레...\n",
       "6       Application  [ict, 정보통신기술, 스마트, rfid, antenna, gsm, 통신, 모바일...\n",
       "7           Service  [it기술지원, it, 기술지원, 전산직, 테크니컬라이터, 유지보수, 유지, 보수,...\n",
       "8              Game  [시나리오, 서버, server, 네트워크, network, 디자인, 게임디자인, ...\n",
       "9                AI  [비전인식, 비전, 인식, 공간, 로봇, 무인, 빅데이터, 큐레이터, 머신러닝, 인..."
      ]
     },
     "execution_count": 65,
     "metadata": {},
     "output_type": "execute_result"
    }
   ],
   "source": [
    "dict_ = pd.read_csv(\"./data/worddoc.csv\")\n",
    "\n",
    "dict_['words'] = dict_.words.apply(lambda x: x.split(','))\n",
    "dict_"
   ]
  },
  {
   "cell_type": "code",
   "execution_count": 105,
   "id": "2c07553c",
   "metadata": {},
   "outputs": [],
   "source": [
    "sample = [\"\"\"\n",
    " Tech Stack\n",
    "Glide Retrofit RxJava Kotlin iOS RxSwift MVVM(Model-View-ViewModel)\n",
    "Job Description\n",
    "\n",
    "[클라이언트 개발팀]\n",
    "동영상 편집에 필요한 어플리케이션 UI 및 비즈니스 로직을 개발하며, 편집을 쉽게 할 수 있는 UI / UX 를 연구합니다.\n",
    "공공배달 배달플랫폼에 필요한 어플리케이션 UI 및 복잡한 배달 비즈니스 로직을 무결점을 목표로 개발을 합니다.\n",
    "\n",
    "    동영상 편집에 필요한 UI 및 비즈니스 로직 개발\n",
    "    멸치 렌더링 엔진과의 연동 및 팀 협업\n",
    "    최신 UI / UX 기술 도입 및 개발\n",
    "    기술 스택 : Swift, RxSwift, RxCocoa, Alamofire, Clean Swift, MVVM\n",
    "\n",
    "Minimum Requirements\n",
    "\n",
    "    iOS 앱 개발 경력 3년 이상\n",
    "    iOS 플랫폼 및 개발 전반에 대한 높은 이해와 다양한 경험이 있으신 분\n",
    "\n",
    "Preferred Qualifications\n",
    "\n",
    "    React 개발 경험\n",
    "    Clean Swift / MVVM 개발 경험\n",
    "\n",
    "\"\"\"]"
   ]
  },
  {
   "cell_type": "code",
   "execution_count": 106,
   "id": "2903b1c7",
   "metadata": {},
   "outputs": [
    {
     "name": "stderr",
     "output_type": "stream",
     "text": [
      "0it [00:00, ?it/s]"
     ]
    },
    {
     "name": "stdout",
     "output_type": "stream",
     "text": [
      "[0, 1, 0, 0, 1, 2, 4, 1, 2, 1]\n"
     ]
    },
    {
     "name": "stderr",
     "output_type": "stream",
     "text": [
      "\n"
     ]
    },
    {
     "ename": "AttributeError",
     "evalue": "'str' object has no attribute 'header'",
     "output_type": "error",
     "traceback": [
      "\u001b[0;31m---------------------------------------------------------------------------\u001b[0m",
      "\u001b[0;31mAttributeError\u001b[0m                            Traceback (most recent call last)",
      "Input \u001b[0;32mIn [106]\u001b[0m, in \u001b[0;36m<cell line: 3>\u001b[0;34m()\u001b[0m\n\u001b[1;32m     13\u001b[0m arr \u001b[38;5;241m=\u001b[39m np\u001b[38;5;241m.\u001b[39marray(arr)\u001b[38;5;241m/\u001b[39m\u001b[38;5;28msum\u001b[39m(arr)\n\u001b[1;32m     14\u001b[0m \u001b[38;5;66;03m#print(arr.argmax())\u001b[39;00m\n\u001b[0;32m---> 15\u001b[0m \u001b[38;5;28;01mif\u001b[39;00m arr\u001b[38;5;241m.\u001b[39margmax() \u001b[38;5;241m==\u001b[39m \u001b[43msentence\u001b[49m\u001b[38;5;241;43m.\u001b[39;49m\u001b[43mheader\u001b[49m:\n\u001b[1;32m     16\u001b[0m     t_cnt \u001b[38;5;241m+\u001b[39m\u001b[38;5;241m=\u001b[39m \u001b[38;5;241m1\u001b[39m\n\u001b[1;32m     17\u001b[0m \u001b[38;5;28;01melse\u001b[39;00m:\n",
      "\u001b[0;31mAttributeError\u001b[0m: 'str' object has no attribute 'header'"
     ]
    }
   ],
   "source": [
    "t_cnt, f_cnt = 0, 0\n",
    "#for i, sentence in tqdm(data.iterrows()):\n",
    "for i, sentence in tqdm(enumerate(sample)):\n",
    "    arr = [0] * 10\n",
    "    for j, word in enumerate(dict_.words):\n",
    "        cnt = 0\n",
    "        for i in word:\n",
    "            if i in sentence:\n",
    "                cnt += 1\n",
    "        arr[j] = cnt\n",
    "        \n",
    "    print(arr)\n",
    "    arr = np.array(arr)/sum(arr)\n",
    "    #print(arr.argmax())\n",
    "    if arr.argmax() == sentence.header:\n",
    "        t_cnt += 1\n",
    "    else:\n",
    "        f_cnt += 1\n",
    "    break\n",
    "print(t_cnt, f_cnt)"
   ]
  },
  {
   "cell_type": "code",
   "execution_count": 94,
   "id": "e820c5ab",
   "metadata": {},
   "outputs": [
    {
     "name": "stdout",
     "output_type": "stream",
     "text": [
      "0\n"
     ]
    }
   ],
   "source": [
    "for i,j in data.iterrows():\n",
    "    print(j.header)\n",
    "    break"
   ]
  },
  {
   "cell_type": "code",
   "execution_count": 99,
   "id": "98f0346b",
   "metadata": {},
   "outputs": [
    {
     "data": {
      "text/plain": [
       "0    [경력 3년이상]\\n함께 성장할 java 개발자 모집\\n모집부문 및 상세내용\\n공통...\n",
       "0    업무 소개\\n웹 프론트엔드 개발\\nwebgl/canvas 활용한 3d/2d 모델의 ...\n",
       "0    한국문화를 알리고 한글을 가르치고, 사람들과 소통하며, 상품 구매도 가능한 app개...\n",
       "Name: detail, dtype: object"
      ]
     },
     "execution_count": 99,
     "metadata": {},
     "output_type": "execute_result"
    }
   ],
   "source": [
    "data['detail'][0]"
   ]
  },
  {
   "cell_type": "code",
   "execution_count": null,
   "id": "0ec037ec",
   "metadata": {},
   "outputs": [],
   "source": []
  }
 ],
 "metadata": {
  "kernelspec": {
   "display_name": "Python 3 (ipykernel)",
   "language": "python",
   "name": "python3"
  },
  "language_info": {
   "codemirror_mode": {
    "name": "ipython",
    "version": 3
   },
   "file_extension": ".py",
   "mimetype": "text/x-python",
   "name": "python",
   "nbconvert_exporter": "python",
   "pygments_lexer": "ipython3",
   "version": "3.8.13"
  }
 },
 "nbformat": 4,
 "nbformat_minor": 5
}

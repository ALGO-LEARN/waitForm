{
 "cells": [
  {
   "cell_type": "code",
   "execution_count": 24,
   "metadata": {
    "id": "z-bK0tCDpvaS"
   },
   "outputs": [],
   "source": [
    "import pandas as pd\n",
    "from konlpy.tag import Okt\n",
    "import numpy as np\n",
    "from sklearn.cluster import KMeans"
   ]
  },
  {
   "cell_type": "code",
   "execution_count": 25,
   "metadata": {
    "id": "v-8fKM_8q-yA"
   },
   "outputs": [],
   "source": [
    "# !pip install konlpy"
   ]
  },
  {
   "cell_type": "code",
   "execution_count": 26,
   "metadata": {
    "colab": {
     "base_uri": "https://localhost:8080/",
     "height": 520
    },
    "id": "5Grrnnc1rBJI",
    "outputId": "79d94f25-db58-4535-9b29-8c6990e324e5"
   },
   "outputs": [
    {
     "data": {
      "text/html": [
       "\n",
       "  <div id=\"df-3340556d-70e2-4b94-b898-96d0dbaf733b\">\n",
       "    <div class=\"colab-df-container\">\n",
       "      <div>\n",
       "<style scoped>\n",
       "    .dataframe tbody tr th:only-of-type {\n",
       "        vertical-align: middle;\n",
       "    }\n",
       "\n",
       "    .dataframe tbody tr th {\n",
       "        vertical-align: top;\n",
       "    }\n",
       "\n",
       "    .dataframe thead th {\n",
       "        text-align: right;\n",
       "    }\n",
       "</style>\n",
       "<table border=\"1\" class=\"dataframe\">\n",
       "  <thead>\n",
       "    <tr style=\"text-align: right;\">\n",
       "      <th></th>\n",
       "      <th>header</th>\n",
       "      <th>detail</th>\n",
       "    </tr>\n",
       "  </thead>\n",
       "  <tbody>\n",
       "    <tr>\n",
       "      <th>0</th>\n",
       "      <td>Back_end</td>\n",
       "      <td>업무 소개\\n웹 프론트엔드 개발\\nwebgl/canvas 활용한 3d/2d 모델의 ...</td>\n",
       "    </tr>\n",
       "    <tr>\n",
       "      <th>1</th>\n",
       "      <td>Back_end</td>\n",
       "      <td>업무 소개\\nruby on rails 이용한 rest api 개발\\nopenapi ...</td>\n",
       "    </tr>\n",
       "    <tr>\n",
       "      <th>2</th>\n",
       "      <td>Back_end</td>\n",
       "      <td>업무 소개\\n한국에서 350만명, 미국에서 150만명이 하루 평균 40분 사용하는 ...</td>\n",
       "    </tr>\n",
       "    <tr>\n",
       "      <th>3</th>\n",
       "      <td>Back_end</td>\n",
       "      <td>업무 소개\\nfts (fulfillment and transportation sys...</td>\n",
       "    </tr>\n",
       "    <tr>\n",
       "      <th>4</th>\n",
       "      <td>Back_end</td>\n",
       "      <td>업무 소개\\nagile 한 골라라의 개발 문화에서 백엔드 개발 및 인프라 관리 작업...</td>\n",
       "    </tr>\n",
       "    <tr>\n",
       "      <th>...</th>\n",
       "      <td>...</td>\n",
       "      <td>...</td>\n",
       "    </tr>\n",
       "    <tr>\n",
       "      <th>46182</th>\n",
       "      <td>Service</td>\n",
       "      <td>미들웨어 개발자 채용\\n서비스 소개\\n알티미디어는 디지털 방송용 소프트웨어 솔루션 ...</td>\n",
       "    </tr>\n",
       "    <tr>\n",
       "      <th>46183</th>\n",
       "      <td>Service</td>\n",
       "      <td>부서 소개\\n전사 경영정보 시스템(포탈, 인사, nac, 예산, epr) 개발을 담...</td>\n",
       "    </tr>\n",
       "    <tr>\n",
       "      <th>46184</th>\n",
       "      <td>Service</td>\n",
       "      <td>공고상세\\n1. 담당업무\\n\\nㆍ전산센터 24시간 관제운영 (총 4인 1일 2교대근...</td>\n",
       "    </tr>\n",
       "    <tr>\n",
       "      <th>46185</th>\n",
       "      <td>Service</td>\n",
       "      <td>공고상세\\nproject description\\n\\nour customer is a...</td>\n",
       "    </tr>\n",
       "    <tr>\n",
       "      <th>46186</th>\n",
       "      <td>Service</td>\n",
       "      <td>기술연구소 s/w, h/w(신입 및 경력) 정규직 모집 공고\\n모집부문 및 상세내용...</td>\n",
       "    </tr>\n",
       "  </tbody>\n",
       "</table>\n",
       "<p>43137 rows × 2 columns</p>\n",
       "</div>\n",
       "      <button class=\"colab-df-convert\" onclick=\"convertToInteractive('df-3340556d-70e2-4b94-b898-96d0dbaf733b')\"\n",
       "              title=\"Convert this dataframe to an interactive table.\"\n",
       "              style=\"display:none;\">\n",
       "        \n",
       "  <svg xmlns=\"http://www.w3.org/2000/svg\" height=\"24px\"viewBox=\"0 0 24 24\"\n",
       "       width=\"24px\">\n",
       "    <path d=\"M0 0h24v24H0V0z\" fill=\"none\"/>\n",
       "    <path d=\"M18.56 5.44l.94 2.06.94-2.06 2.06-.94-2.06-.94-.94-2.06-.94 2.06-2.06.94zm-11 1L8.5 8.5l.94-2.06 2.06-.94-2.06-.94L8.5 2.5l-.94 2.06-2.06.94zm10 10l.94 2.06.94-2.06 2.06-.94-2.06-.94-.94-2.06-.94 2.06-2.06.94z\"/><path d=\"M17.41 7.96l-1.37-1.37c-.4-.4-.92-.59-1.43-.59-.52 0-1.04.2-1.43.59L10.3 9.45l-7.72 7.72c-.78.78-.78 2.05 0 2.83L4 21.41c.39.39.9.59 1.41.59.51 0 1.02-.2 1.41-.59l7.78-7.78 2.81-2.81c.8-.78.8-2.07 0-2.86zM5.41 20L4 18.59l7.72-7.72 1.47 1.35L5.41 20z\"/>\n",
       "  </svg>\n",
       "      </button>\n",
       "      \n",
       "  <style>\n",
       "    .colab-df-container {\n",
       "      display:flex;\n",
       "      flex-wrap:wrap;\n",
       "      gap: 12px;\n",
       "    }\n",
       "\n",
       "    .colab-df-convert {\n",
       "      background-color: #E8F0FE;\n",
       "      border: none;\n",
       "      border-radius: 50%;\n",
       "      cursor: pointer;\n",
       "      display: none;\n",
       "      fill: #1967D2;\n",
       "      height: 32px;\n",
       "      padding: 0 0 0 0;\n",
       "      width: 32px;\n",
       "    }\n",
       "\n",
       "    .colab-df-convert:hover {\n",
       "      background-color: #E2EBFA;\n",
       "      box-shadow: 0px 1px 2px rgba(60, 64, 67, 0.3), 0px 1px 3px 1px rgba(60, 64, 67, 0.15);\n",
       "      fill: #174EA6;\n",
       "    }\n",
       "\n",
       "    [theme=dark] .colab-df-convert {\n",
       "      background-color: #3B4455;\n",
       "      fill: #D2E3FC;\n",
       "    }\n",
       "\n",
       "    [theme=dark] .colab-df-convert:hover {\n",
       "      background-color: #434B5C;\n",
       "      box-shadow: 0px 1px 3px 1px rgba(0, 0, 0, 0.15);\n",
       "      filter: drop-shadow(0px 1px 2px rgba(0, 0, 0, 0.3));\n",
       "      fill: #FFFFFF;\n",
       "    }\n",
       "  </style>\n",
       "\n",
       "      <script>\n",
       "        const buttonEl =\n",
       "          document.querySelector('#df-3340556d-70e2-4b94-b898-96d0dbaf733b button.colab-df-convert');\n",
       "        buttonEl.style.display =\n",
       "          google.colab.kernel.accessAllowed ? 'block' : 'none';\n",
       "\n",
       "        async function convertToInteractive(key) {\n",
       "          const element = document.querySelector('#df-3340556d-70e2-4b94-b898-96d0dbaf733b');\n",
       "          const dataTable =\n",
       "            await google.colab.kernel.invokeFunction('convertToInteractive',\n",
       "                                                     [key], {});\n",
       "          if (!dataTable) return;\n",
       "\n",
       "          const docLinkHtml = 'Like what you see? Visit the ' +\n",
       "            '<a target=\"_blank\" href=https://colab.research.google.com/notebooks/data_table.ipynb>data table notebook</a>'\n",
       "            + ' to learn more about interactive tables.';\n",
       "          element.innerHTML = '';\n",
       "          dataTable['output_type'] = 'display_data';\n",
       "          await google.colab.output.renderOutput(dataTable, element);\n",
       "          const docLink = document.createElement('div');\n",
       "          docLink.innerHTML = docLinkHtml;\n",
       "          element.appendChild(docLink);\n",
       "        }\n",
       "      </script>\n",
       "    </div>\n",
       "  </div>\n",
       "  "
      ],
      "text/plain": [
       "         header                                             detail\n",
       "0      Back_end  업무 소개\\n웹 프론트엔드 개발\\nwebgl/canvas 활용한 3d/2d 모델의 ...\n",
       "1      Back_end  업무 소개\\nruby on rails 이용한 rest api 개발\\nopenapi ...\n",
       "2      Back_end  업무 소개\\n한국에서 350만명, 미국에서 150만명이 하루 평균 40분 사용하는 ...\n",
       "3      Back_end  업무 소개\\nfts (fulfillment and transportation sys...\n",
       "4      Back_end  업무 소개\\nagile 한 골라라의 개발 문화에서 백엔드 개발 및 인프라 관리 작업...\n",
       "...         ...                                                ...\n",
       "46182   Service  미들웨어 개발자 채용\\n서비스 소개\\n알티미디어는 디지털 방송용 소프트웨어 솔루션 ...\n",
       "46183   Service  부서 소개\\n전사 경영정보 시스템(포탈, 인사, nac, 예산, epr) 개발을 담...\n",
       "46184   Service  공고상세\\n1. 담당업무\\n\\nㆍ전산센터 24시간 관제운영 (총 4인 1일 2교대근...\n",
       "46185   Service  공고상세\\nproject description\\n\\nour customer is a...\n",
       "46186   Service  기술연구소 s/w, h/w(신입 및 경력) 정규직 모집 공고\\n모집부문 및 상세내용...\n",
       "\n",
       "[43137 rows x 2 columns]"
      ]
     },
     "execution_count": 26,
     "metadata": {},
     "output_type": "execute_result"
    }
   ],
   "source": [
    "stack_data1 = pd.read_csv(\"./programmers_data.csv\", encoding='utf-8')\n",
    "\n",
    "data1 = pd.read_csv(\"./programmers_data.csv\", encoding='utf-8')\n",
    "data2 = pd.read_csv(\"./renewal_incruit_crawling.csv\", encoding='utf-8')\n",
    "data3 = pd.read_csv(\"./renewal_wanted_crawling.csv\", encoding='utf-8')\n",
    "data4 = pd.read_csv(\"./saramin_data.csv\", encoding='utf-8')\n",
    "\n",
    "data1.columns = [\"stack\", 'detail', 'header']\n",
    "data1 = data1.loc[:,['header', 'detail']]\n",
    "data4.columns = [\"detail\", 'header']\n",
    "\n",
    "data = pd.concat([data1, data2, data3, data4])\n",
    "data[\"detail\"] = data[\"detail\"].replace(\"\", np.nan)\n",
    "data.reset_index(drop=True, inplace=True)\n",
    "data = data.dropna()\n",
    "\n",
    "data['detail'] = data.detail.apply(lambda x: x.lower())\n",
    "data['header'] = data['header'].replace('Back-end', 'Back_end')\n",
    "data['header'] = data['header'].replace('Front-End', 'Front_end')\n",
    "data['header'] = data['header'].replace('DataBase', 'Database')\n",
    "data['header'] = data['header'].replace('Network/Security', 'Network_Security')\n",
    "\n",
    "data['header'].unique()\n",
    "data"
   ]
  },
  {
   "cell_type": "code",
   "execution_count": null,
   "metadata": {
    "id": "v0rFE2VjB2zh"
   },
   "outputs": [],
   "source": [
    "stack_data1"
   ]
  },
  {
   "cell_type": "code",
   "execution_count": 27,
   "metadata": {
    "id": "JJIgSgQtuqqQ"
   },
   "outputs": [],
   "source": [
    "sentence = ''' 기술 스택\n",
    "GlideRetrofitRxJavaKotliniOSRxSwiftMVVM(Model-View-ViewModel)\n",
    "업무 소개\n",
    "[클라이언트 개발팀]\n",
    "동영상 편집에 필요한 어플리케이션 UI 및 비즈니스 로직을 개발하며, 편집을 쉽게 할 수 있는 UI / UX 를 연구합니다.\n",
    "공공배달 배달플랫폼에 필요한 어플리케이션 UI 및 복잡한 배달 비즈니스 로직을 무결점을 목표로 개발을 합니다.\n",
    "\n",
    "동영상 편집에 필요한 UI 및 비즈니스 로직 개발\n",
    "멸치 렌더링 엔진과의 연동 및 팀 협업\n",
    "최신 UI / UX 기술 도입 및 개발\n",
    "기술 스택 : Swift, RxSwift, RxCocoa, Alamofire, Clean Swift, MVVM\n",
    "자격 조건\n",
    "iOS 앱 개발 경력 3년 이상\n",
    "iOS 플랫폼 및 개발 전반에 대한 높은 이해와 다양한 경험이 있으신 분\n",
    "우대사항\n",
    "React 개발 경험\n",
    "Clean Swift / MVVM 개발 경험 '''\n"
   ]
  },
  {
   "cell_type": "code",
   "execution_count": 28,
   "metadata": {
    "colab": {
     "base_uri": "https://localhost:8080/"
    },
    "id": "Wu1p5NSFv3IM",
    "outputId": "53e114d0-d4ae-4c3f-9236-dc1228f8b9c7"
   },
   "outputs": [
    {
     "name": "stdout",
     "output_type": "stream",
     "text": [
      "['기술', '스택', 'GlideRetrofitRxJavaKotliniOSRxSwiftMVVM', 'Model', 'View', 'ViewModel', '업무', '소개', '클라이언트', '개발', '팀', '동영상', '편집', '어플리케이션', 'UI', '및', '비즈니스', '로직', '개발', '편집', '수', 'UI', 'UX', '를', '연구', '배달', '배달', '플랫폼', '어플리케이션', 'UI', '및', '배달', '비즈니스', '로직', '무', '결점', '목표', '개발', '동영상', '편집', 'UI', '및', '비즈니스', '로직', '개발', '멸치', '렌더링', '엔진', '연동', '및', '팀', '협업', '최신', 'UI', 'UX', '기술', '도입', '및', '개발', '기술', '스택', 'Swift', 'RxSwift', 'RxCocoa', 'Alamofire', 'Clean', 'Swift', 'MVVM', '자격', '조건', 'iOS', '앱', '개발', '경력', '이상', 'iOS', '플랫폼', '및', '개발', '전반', '대한', '이해', '경험', '분', '우대', '사항', 'React', '개발', '경험', 'Clean', 'Swift', 'MVVM', '개발', '경험']\n"
     ]
    }
   ],
   "source": [
    "okt = Okt()\n",
    "s = okt.pos(sentence, stem='True')\n",
    "\n",
    "arr = []\n",
    "for i in s:\n",
    "  if i[1] == 'Noun' or i[1] == 'Alpha':\n",
    "    arr.append(i[0])\n",
    "print(arr)"
   ]
  },
  {
   "cell_type": "code",
   "execution_count": null,
   "metadata": {
    "id": "rzjjxZpQyh2g"
   },
   "outputs": [],
   "source": [
    "hashtag = pd.read_csv(\"./worddoc.csv\", encoding='utf-8')\n",
    "hashtag\n",
    "\n",
    "common_texts_and_tags = []\n",
    "for c, w in zip(hashtag['class'], hashtag['words']):\n",
    "  word = w\n",
    "  common_texts_and_tags.append(word)\n",
    "common_texts_and_tags"
   ]
  },
  {
   "cell_type": "code",
   "execution_count": 99,
   "metadata": {
    "colab": {
     "base_uri": "https://localhost:8080/"
    },
    "id": "s1AzVgMGy6qu",
    "outputId": "ccba677d-d990-43e5-9136-31810c5d7294"
   },
   "outputs": [
    {
     "name": "stdout",
     "output_type": "stream",
     "text": [
      "[9, 0, 0, 9, 1, 3, 9, 4, 1, 2]\n"
     ]
    }
   ],
   "source": [
    "count_tag = [0,0,0,0,0,0,0,0,0,0]\n",
    "for text in arr:\n",
    "    for idx, w in enumerate(common_texts_and_tags):\n",
    "        if text in w:\n",
    "            count_tag[idx]+=1\n",
    "print(count_tag)"
   ]
  },
  {
   "cell_type": "code",
   "execution_count": 20,
   "metadata": {
    "colab": {
     "base_uri": "https://localhost:8080/"
    },
    "id": "CO5mtLUeDu7i",
    "outputId": "9df3d811-dacc-404c-893d-2811a6f71b5e"
   },
   "outputs": [
    {
     "name": "stdout",
     "output_type": "stream",
     "text": [
      "['', 'apachezeppelin', 'flask', 'java', 'swift', 'unrealengine', 'android', 'tensorflowlite', 'bigdata', 'oracledatabase', 'cuda', 'geoserver', 'awscloud9', 'microsoftiis', 'fluentbit', 'selenium', 'datadog', 'git', 'sql', 'apacheflink', 'drf(djangorestframework)', 'cypress', 'retrofit2', 'mariadb', 'elasticstack', 'windowsserver', 'awselasticache', 'spring', 'oracle', 'mongodb', 'awskinesis', 'amazonwebservices(aws)', 'gan(generativeadversarialnetwork)', 'databinding', 'es6', 'presto', 'shellscript', 'expressjs', 'wpf', 'sas', 'pyspark', 'awscloudwatch', 'jsp', 'php', 'awsec2', 'facebookapi', 'machinelearning', 'azure', 'apachekudu', '.net', 'windowsembedded', 'apacheairflow', 'ros', 'mqtt', 'awselasticbeanstalk', 'opengl', 'apachehbase', 'mvvm(model-view-viewmodel)', 'pandas', 'seo', 'qt', 'betransparent', 'postgresql', 'unix', 'fastapi', 'swagger', 'lottie', 'apachekaraf', 'reactjs', 'stt(speechtotext)', 'awsalexa', 'ansible', 'webpack', '3dsmax', 'reactnative', 'beopen', 'awscloudfront', 'dba(databaseadministration)', 'gis(geographicinformationsystem)', 'ruby', 'html5', 'focusonessential', 'gomars', 'pytorch', 'awss3', 'scala', 'apache', 'jenkins', 'awsdatapipeline', 'neo4j', 'apachestruts', 'jquery', 'node.js', 'awsglue', 'nlp', 'bebold', 'objective-c', 'rpc(remoteprocedurecall)', 'tensorflow', 'ubuntu', 'trustus', 'azuredatafactory', 'dataanalysys', 'wordpress', 'bepositive', 'ios', 'awsemr', 'rancher', 'numpy', 'awsbackup', 'sidekiq', 'googlebigquery', 'springboot', 'awsathena', 'apachedruid', 'unity', 'html', 'microsoftazure', 'twitterapi', 'jupyter', 'nvidiatensorrt', 'awsquicksight', 'logstash', 'redhatcephstorage', 'nosql', 'apachecassandra', 'msql', 'terraform', 'imageprocessing', 'elasticsearch', 'ci/cd', 'c', 'puppeteer', 'uwsgi', 'jpa(javapersistentapi)', 'textmining', 'r', 'javascript', 'deeplearning', 'firebase', 'github', 'googleanalytics', 'keras', 'haproxy', 'database', 'awsdynamodb', 'python', 'datamining', 'typescript', 'docker', 'awslambda', 'nginx', 'mysql', 'c#', 'redis', 'awseks', 'django', 'beproactive', 'celery', 'digitalocean', 'shell', 'apachehadoop', 'xml', 'go', 'adobeanalytics', 'c++', 'jira', 'kubernetes', 'matlab', 'slam(simultaneouslocalizationandmapping)', 'tensorflow.js', 'restapi', 'tibero', 'trello', 'mvp', 'tableau', '\"dontbeevil\"', 'apachehive', 'laravel', 'springcloud', 'torch', 'lessonlearned', 'embeddedsystem', 'growfurther', 'movefast', 'rust', 'apachespark', 'threejs', 'missionaligned', 'javaservlet', 'jest', 'linux', 'yoctoproject', 'gcp(googlecloudplatform)', 'rxswift', 'datavisualization', 'scikit-learn', 'adobexd', 'apachekafka', 'graphql', 'googleappengine', 'linuxkernel', 'awsecs', 'kotlin', 'awsrds', 'rubyonrails', 'css', 'babel', 'machinevision', 'awsredshift', 'luigi', 'opencv', 'gitlab', 'kibana', 'mssql(microsoftsqlserver)', 'springdata', 'vue.js', 'apachesentry']\n"
     ]
    }
   ],
   "source": [
    "for key, value in hashdata.items():\n",
    "    # 한글일경우 거짓(0)\n",
    "    v_list = []\n",
    "    for v in value:\n",
    "        if isEnglishOrKorean(v) == 'e':\n",
    "            v_list.append(v)\n",
    "        hashdata[key] = v_list\n",
    "\n",
    "print(hashdata['AI'])  "
   ]
  },
  {
   "cell_type": "code",
   "execution_count": 6,
   "metadata": {
    "id": "4ubX1vEVEAAs"
   },
   "outputs": [],
   "source": [
    "def isEnglishOrKorean(input_s):\n",
    "    k_count = 0\n",
    "    e_count = 0\n",
    "    for c in input_s:\n",
    "        if ord('가') <= ord(c) <= ord('힣'):\n",
    "            k_count+=1\n",
    "        elif ord('a') <= ord(c.lower()) <= ord('z'):\n",
    "            e_count+=1\n",
    "    return \"k\" if k_count>=1 else \"e\""
   ]
  },
  {
   "cell_type": "code",
   "execution_count": null,
   "metadata": {
    "id": "7dW37ZhcNfcz"
   },
   "outputs": [],
   "source": []
  }
 ],
 "metadata": {
  "colab": {
   "collapsed_sections": [],
   "name": "20220429.ipynb",
   "provenance": [],
   "toc_visible": true
  },
  "kernelspec": {
   "display_name": "Python 3 (ipykernel)",
   "language": "python",
   "name": "python3"
  },
  "language_info": {
   "codemirror_mode": {
    "name": "ipython",
    "version": 3
   },
   "file_extension": ".py",
   "mimetype": "text/x-python",
   "name": "python",
   "nbconvert_exporter": "python",
   "pygments_lexer": "ipython3",
   "version": "3.8.13"
  }
 },
 "nbformat": 4,
 "nbformat_minor": 1
}
